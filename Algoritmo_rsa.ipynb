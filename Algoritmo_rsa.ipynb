{
  "nbformat": 4,
  "nbformat_minor": 0,
  "metadata": {
    "colab": {
      "name": "Algoritmo_rsa.ipynb",
      "provenance": []
    },
    "kernelspec": {
      "name": "python3",
      "display_name": "Python 3"
    }
  },
  "cells": [
    {
      "cell_type": "markdown",
      "metadata": {
        "id": "s5FtVYQl-RFA",
        "colab_type": "text"
      },
      "source": [
        "**Algoritmo Rsa, criptografia**\n",
        "\n"
      ]
    },
    {
      "cell_type": "markdown",
      "metadata": {
        "id": "lQyTbnZD-5b_",
        "colab_type": "text"
      },
      "source": [
        "Es un algoritmo de cifrado asimetrico, quiere decir que usa llaves distintas para cifrar y decifrar el mensaje.\n"
      ]
    },
    {
      "cell_type": "markdown",
      "metadata": {
        "id": "6sFv8r4C_znk",
        "colab_type": "text"
      },
      "source": [
        "El metodo de cifrado se basa en la factoriazacion de numeros primos lo suficientemente grandes para cifrar el mensaje. Entre mas grande sea el numero primo mejor sera la seguridad del mensaje cifrado. Este algoritmo utiliza dos claves, una publica y una privada.\n"
      ]
    },
    {
      "cell_type": "markdown",
      "metadata": {
        "id": "s_AuHnQ1Agak",
        "colab_type": "text"
      },
      "source": [
        "Como ejemplo tendremos una lista pequeña de numeros primos, almacenada en un vector, previamente definido, es claro que podemos hacer un algoritmo que nos genere estos numeros. El pequeño teorema de **Fermat** es de gran utilidad para la generacion de estos numeros, usando el test de *fermat* para comrpobar cada numero de esta lista. \n",
        "\n",
        "$numerosPrimos= [4787, 4789, 4793, 4799, 4801, 4813, 4817, 4831, 4861, 4871, 4877, 4889, 4903, 4909, 4919, 4931, 4933]$\n",
        "\n",
        "Nota: En computacion, las claves mas seguras son aquellos que tienen mas de 2048 bits.\n",
        "\n",
        "Para construir nuestro algoritmo RSA necesitaresmos de dos numeros $q$ y $p$, numeros de la lista de primos, un numero **n** que es $n=p*q$  y necesitaremos un numero **F** tal que $F=(p-1)(q-1)$\n",
        "\n"
      ]
    },
    {
      "cell_type": "code",
      "metadata": {
        "id": "RLRWPdxOMYjN",
        "colab_type": "code",
        "colab": {}
      },
      "source": [
        "numerosPrimos =[4787,4789,4793,4799,4801,4813,4817,4831,4861,4871,4877,4889,4903,4909,4919,4931,4933]\n",
        "n=numerosPrimos[1]*numerosPrimos[2]\n",
        "F=(numerosPrimos[1]-1)*(numerosPrimos[2]-1)\n"
      ],
      "execution_count": 22,
      "outputs": []
    },
    {
      "cell_type": "markdown",
      "metadata": {
        "id": "eWBqJnYNNqHb",
        "colab_type": "text"
      },
      "source": [
        "El numero **n** es publico, pero los numeros *q* y *p* no lo son.\n",
        "\n",
        "**Clave publica:**\n",
        "Necesitaremos un numero e tal que sea coprimo con el numero F.\n",
        "En este ejemplo tomaremos a un elemento de la lista de primos y como F es divisible por 2 garantizamos que son coprimos. De esta forma la clave publica seria:\n",
        "\n",
        "$C=(m^e)mod(n)$ donde **m=\"el numero a cifrar\"**\n",
        "\n",
        "**Clave privada:**\n",
        "\n",
        "Necesitaremos un numero d tal que es el inverso multiplicativo entre $e mod(F)$.\n",
        "*e y F* son coprimos. De esta forma tenemos que:\n",
        "\n",
        "$m=(c^d)mod(n)$\n",
        "\n",
        "\n",
        "\n"
      ]
    },
    {
      "cell_type": "code",
      "metadata": {
        "id": "rrgg1HzdVNAk",
        "colab_type": "code",
        "colab": {
          "base_uri": "https://localhost:8080/",
          "height": 34
        },
        "outputId": "3fcbddfa-17c9-4942-ef80-49ce7aa3dac1"
      },
      "source": [
        "m=5\n",
        "e=numerosPrimos[0]\n",
        "c=(m^e)%n\n",
        "print(c)"
      ],
      "execution_count": 23,
      "outputs": [
        {
          "output_type": "stream",
          "text": [
            "4790\n"
          ],
          "name": "stdout"
        }
      ]
    },
    {
      "cell_type": "markdown",
      "metadata": {
        "id": "uyfzWjquXhoU",
        "colab_type": "text"
      },
      "source": [
        "Para hallar el inverso multiplicativo, usaremos las siguientes funciones.\n",
        "(*tomadas de https://www.it-swarm.dev/es/python/funcion-inversa-multiplicativa-modular-en-python/972004398/*)\n",
        "\n"
      ]
    },
    {
      "cell_type": "code",
      "metadata": {
        "id": "iOVQV7cAYImA",
        "colab_type": "code",
        "colab": {}
      },
      "source": [
        "def egcd(a, b):\n",
        "    if a == 0:\n",
        "        return (b, 0, 1)\n",
        "    else:\n",
        "        g, y, x = egcd(b % a, a)\n",
        "        return (g, x - (b // a) * y, y)\n",
        "\n",
        "def modinv(a, m):\n",
        "    g, x, y = egcd(a, m)\n",
        "    if g != 1:\n",
        "        raise Exception('modular inverse does not exist')\n",
        "    else:\n",
        "        return x % m"
      ],
      "execution_count": 14,
      "outputs": []
    },
    {
      "cell_type": "markdown",
      "metadata": {
        "id": "yTzPNDwTYOy7",
        "colab_type": "text"
      },
      "source": [
        "De esta forma nuesta llave de decifrado, quedaria:"
      ]
    },
    {
      "cell_type": "code",
      "metadata": {
        "id": "jSdzI12qYXqo",
        "colab_type": "code",
        "colab": {}
      },
      "source": [
        "d=modinv(e,F)\n",
        "M=(c^d)%n\n",
        "\n"
      ],
      "execution_count": 28,
      "outputs": []
    }
  ]
}